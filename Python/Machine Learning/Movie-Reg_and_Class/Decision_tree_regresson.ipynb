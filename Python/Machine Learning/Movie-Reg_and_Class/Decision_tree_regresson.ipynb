{
 "cells": [
  {
   "cell_type": "code",
   "execution_count": 1,
   "metadata": {},
   "outputs": [],
   "source": [
    "import pandas as pd\n",
    "import numpy as np\n",
    "import seaborn as sb\n"
   ]
  },
  {
   "cell_type": "code",
   "execution_count": 2,
   "metadata": {},
   "outputs": [],
   "source": [
    "df=pd.read_csv('C:\\\\RG  11.05.2019\\\\ML\\\\Movie\\\\Movie_regression.csv',header=0)"
   ]
  },
  {
   "cell_type": "code",
   "execution_count": 3,
   "metadata": {},
   "outputs": [],
   "source": [
    "import matplotlib.pyplot as plt"
   ]
  },
  {
   "cell_type": "code",
   "execution_count": 4,
   "metadata": {},
   "outputs": [
    {
     "output_type": "execute_result",
     "data": {
      "text/plain": "   Marketing expense  Production expense  Multiplex coverage     Budget  \\\n0            20.1264               59.62               0.462  36524.125   \n1            20.5462               69.14               0.531  35668.655   \n2            20.5458               69.14               0.531  39912.675   \n3            20.6474               59.36               0.542  38873.890   \n4            21.3810               59.36               0.542  39701.585   \n\n   Movie_length  Lead_ Actor_Rating  Lead_Actress_rating  Director_rating  \\\n0         138.7               7.825                8.095            7.910   \n1         152.4               7.505                7.650            7.440   \n2         134.6               7.485                7.570            7.495   \n3         119.3               6.895                7.035            6.920   \n4         127.7               6.920                7.070            6.815   \n\n   Producer_rating  Critic_rating  Trailer_views 3D_available  Time_taken  \\\n0            7.995           7.94         527367          YES      109.60   \n1            7.470           7.44         494055           NO      146.64   \n2            7.515           7.44         547051           NO      147.88   \n3            7.020           8.26         516279          YES      185.36   \n4            7.070           8.26         531448           NO      176.48   \n\n   Twitter_hastags     Genre  Avg_age_actors  Num_multiplex  Collection  \n0          223.840  Thriller              23            494       48000  \n1          243.456     Drama              42            462       43200  \n2         2022.400    Comedy              38            458       69400  \n3          225.344     Drama              45            472       66800  \n4          225.792     Drama              55            395       72400  ",
      "text/html": "<div>\n<style scoped>\n    .dataframe tbody tr th:only-of-type {\n        vertical-align: middle;\n    }\n\n    .dataframe tbody tr th {\n        vertical-align: top;\n    }\n\n    .dataframe thead th {\n        text-align: right;\n    }\n</style>\n<table border=\"1\" class=\"dataframe\">\n  <thead>\n    <tr style=\"text-align: right;\">\n      <th></th>\n      <th>Marketing expense</th>\n      <th>Production expense</th>\n      <th>Multiplex coverage</th>\n      <th>Budget</th>\n      <th>Movie_length</th>\n      <th>Lead_ Actor_Rating</th>\n      <th>Lead_Actress_rating</th>\n      <th>Director_rating</th>\n      <th>Producer_rating</th>\n      <th>Critic_rating</th>\n      <th>Trailer_views</th>\n      <th>3D_available</th>\n      <th>Time_taken</th>\n      <th>Twitter_hastags</th>\n      <th>Genre</th>\n      <th>Avg_age_actors</th>\n      <th>Num_multiplex</th>\n      <th>Collection</th>\n    </tr>\n  </thead>\n  <tbody>\n    <tr>\n      <th>0</th>\n      <td>20.1264</td>\n      <td>59.62</td>\n      <td>0.462</td>\n      <td>36524.125</td>\n      <td>138.7</td>\n      <td>7.825</td>\n      <td>8.095</td>\n      <td>7.910</td>\n      <td>7.995</td>\n      <td>7.94</td>\n      <td>527367</td>\n      <td>YES</td>\n      <td>109.60</td>\n      <td>223.840</td>\n      <td>Thriller</td>\n      <td>23</td>\n      <td>494</td>\n      <td>48000</td>\n    </tr>\n    <tr>\n      <th>1</th>\n      <td>20.5462</td>\n      <td>69.14</td>\n      <td>0.531</td>\n      <td>35668.655</td>\n      <td>152.4</td>\n      <td>7.505</td>\n      <td>7.650</td>\n      <td>7.440</td>\n      <td>7.470</td>\n      <td>7.44</td>\n      <td>494055</td>\n      <td>NO</td>\n      <td>146.64</td>\n      <td>243.456</td>\n      <td>Drama</td>\n      <td>42</td>\n      <td>462</td>\n      <td>43200</td>\n    </tr>\n    <tr>\n      <th>2</th>\n      <td>20.5458</td>\n      <td>69.14</td>\n      <td>0.531</td>\n      <td>39912.675</td>\n      <td>134.6</td>\n      <td>7.485</td>\n      <td>7.570</td>\n      <td>7.495</td>\n      <td>7.515</td>\n      <td>7.44</td>\n      <td>547051</td>\n      <td>NO</td>\n      <td>147.88</td>\n      <td>2022.400</td>\n      <td>Comedy</td>\n      <td>38</td>\n      <td>458</td>\n      <td>69400</td>\n    </tr>\n    <tr>\n      <th>3</th>\n      <td>20.6474</td>\n      <td>59.36</td>\n      <td>0.542</td>\n      <td>38873.890</td>\n      <td>119.3</td>\n      <td>6.895</td>\n      <td>7.035</td>\n      <td>6.920</td>\n      <td>7.020</td>\n      <td>8.26</td>\n      <td>516279</td>\n      <td>YES</td>\n      <td>185.36</td>\n      <td>225.344</td>\n      <td>Drama</td>\n      <td>45</td>\n      <td>472</td>\n      <td>66800</td>\n    </tr>\n    <tr>\n      <th>4</th>\n      <td>21.3810</td>\n      <td>59.36</td>\n      <td>0.542</td>\n      <td>39701.585</td>\n      <td>127.7</td>\n      <td>6.920</td>\n      <td>7.070</td>\n      <td>6.815</td>\n      <td>7.070</td>\n      <td>8.26</td>\n      <td>531448</td>\n      <td>NO</td>\n      <td>176.48</td>\n      <td>225.792</td>\n      <td>Drama</td>\n      <td>55</td>\n      <td>395</td>\n      <td>72400</td>\n    </tr>\n  </tbody>\n</table>\n</div>"
     },
     "metadata": {},
     "execution_count": 4
    }
   ],
   "source": [
    "df.head()"
   ]
  },
  {
   "cell_type": "code",
   "execution_count": 5,
   "metadata": {
    "tags": []
   },
   "outputs": [
    {
     "output_type": "stream",
     "name": "stdout",
     "text": "<class 'pandas.core.frame.DataFrame'>\nRangeIndex: 506 entries, 0 to 505\nData columns (total 18 columns):\n #   Column               Non-Null Count  Dtype  \n---  ------               --------------  -----  \n 0   Marketing expense    506 non-null    float64\n 1   Production expense   506 non-null    float64\n 2   Multiplex coverage   506 non-null    float64\n 3   Budget               506 non-null    float64\n 4   Movie_length         506 non-null    float64\n 5   Lead_ Actor_Rating   506 non-null    float64\n 6   Lead_Actress_rating  506 non-null    float64\n 7   Director_rating      506 non-null    float64\n 8   Producer_rating      506 non-null    float64\n 9   Critic_rating        506 non-null    float64\n 10  Trailer_views        506 non-null    int64  \n 11  3D_available         506 non-null    object \n 12  Time_taken           494 non-null    float64\n 13  Twitter_hastags      506 non-null    float64\n 14  Genre                506 non-null    object \n 15  Avg_age_actors       506 non-null    int64  \n 16  Num_multiplex        506 non-null    int64  \n 17  Collection           506 non-null    int64  \ndtypes: float64(12), int64(4), object(2)\nmemory usage: 67.3+ KB\n"
    }
   ],
   "source": [
    "df.info()"
   ]
  },
  {
   "cell_type": "code",
   "execution_count": 6,
   "metadata": {},
   "outputs": [
    {
     "output_type": "execute_result",
     "data": {
      "text/plain": "Marketing expense       0\nProduction expense      0\nMultiplex coverage      0\nBudget                  0\nMovie_length            0\nLead_ Actor_Rating      0\nLead_Actress_rating     0\nDirector_rating         0\nProducer_rating         0\nCritic_rating           0\nTrailer_views           0\n3D_available            0\nTime_taken             12\nTwitter_hastags         0\nGenre                   0\nAvg_age_actors          0\nNum_multiplex           0\nCollection              0\ndtype: int64"
     },
     "metadata": {},
     "execution_count": 6
    }
   ],
   "source": [
    "df.isnull().sum()"
   ]
  },
  {
   "cell_type": "code",
   "execution_count": 7,
   "metadata": {},
   "outputs": [],
   "source": [
    "#Treating Missing Values"
   ]
  },
  {
   "cell_type": "code",
   "execution_count": 8,
   "metadata": {},
   "outputs": [
    {
     "output_type": "execute_result",
     "data": {
      "text/plain": "157.3914979757085"
     },
     "metadata": {},
     "execution_count": 8
    }
   ],
   "source": [
    "df['Time_taken'].mean()"
   ]
  },
  {
   "cell_type": "code",
   "execution_count": 9,
   "metadata": {},
   "outputs": [],
   "source": [
    "df['Time_taken'].fillna(value=df['Time_taken'].mean(), inplace=True)"
   ]
  },
  {
   "cell_type": "code",
   "execution_count": 10,
   "metadata": {},
   "outputs": [
    {
     "output_type": "execute_result",
     "data": {
      "text/plain": "Marketing expense      0\nProduction expense     0\nMultiplex coverage     0\nBudget                 0\nMovie_length           0\nLead_ Actor_Rating     0\nLead_Actress_rating    0\nDirector_rating        0\nProducer_rating        0\nCritic_rating          0\nTrailer_views          0\n3D_available           0\nTime_taken             0\nTwitter_hastags        0\nGenre                  0\nAvg_age_actors         0\nNum_multiplex          0\nCollection             0\ndtype: int64"
     },
     "metadata": {},
     "execution_count": 10
    }
   ],
   "source": [
    "df.isnull().sum()"
   ]
  },
  {
   "cell_type": "code",
   "execution_count": 11,
   "metadata": {},
   "outputs": [],
   "source": [
    "#Missing Values Filled with Mean"
   ]
  },
  {
   "cell_type": "code",
   "execution_count": 12,
   "metadata": {},
   "outputs": [],
   "source": [
    "#Treating Categorical Values"
   ]
  },
  {
   "cell_type": "code",
   "execution_count": 13,
   "metadata": {},
   "outputs": [
    {
     "output_type": "execute_result",
     "data": {
      "text/plain": "   Marketing expense  Production expense  Multiplex coverage     Budget  \\\n0            20.1264               59.62               0.462  36524.125   \n1            20.5462               69.14               0.531  35668.655   \n2            20.5458               69.14               0.531  39912.675   \n3            20.6474               59.36               0.542  38873.890   \n4            21.3810               59.36               0.542  39701.585   \n\n   Movie_length  Lead_ Actor_Rating  Lead_Actress_rating  Director_rating  \\\n0         138.7               7.825                8.095            7.910   \n1         152.4               7.505                7.650            7.440   \n2         134.6               7.485                7.570            7.495   \n3         119.3               6.895                7.035            6.920   \n4         127.7               6.920                7.070            6.815   \n\n   Producer_rating  Critic_rating  Trailer_views 3D_available  Time_taken  \\\n0            7.995           7.94         527367          YES      109.60   \n1            7.470           7.44         494055           NO      146.64   \n2            7.515           7.44         547051           NO      147.88   \n3            7.020           8.26         516279          YES      185.36   \n4            7.070           8.26         531448           NO      176.48   \n\n   Twitter_hastags     Genre  Avg_age_actors  Num_multiplex  Collection  \n0          223.840  Thriller              23            494       48000  \n1          243.456     Drama              42            462       43200  \n2         2022.400    Comedy              38            458       69400  \n3          225.344     Drama              45            472       66800  \n4          225.792     Drama              55            395       72400  ",
      "text/html": "<div>\n<style scoped>\n    .dataframe tbody tr th:only-of-type {\n        vertical-align: middle;\n    }\n\n    .dataframe tbody tr th {\n        vertical-align: top;\n    }\n\n    .dataframe thead th {\n        text-align: right;\n    }\n</style>\n<table border=\"1\" class=\"dataframe\">\n  <thead>\n    <tr style=\"text-align: right;\">\n      <th></th>\n      <th>Marketing expense</th>\n      <th>Production expense</th>\n      <th>Multiplex coverage</th>\n      <th>Budget</th>\n      <th>Movie_length</th>\n      <th>Lead_ Actor_Rating</th>\n      <th>Lead_Actress_rating</th>\n      <th>Director_rating</th>\n      <th>Producer_rating</th>\n      <th>Critic_rating</th>\n      <th>Trailer_views</th>\n      <th>3D_available</th>\n      <th>Time_taken</th>\n      <th>Twitter_hastags</th>\n      <th>Genre</th>\n      <th>Avg_age_actors</th>\n      <th>Num_multiplex</th>\n      <th>Collection</th>\n    </tr>\n  </thead>\n  <tbody>\n    <tr>\n      <th>0</th>\n      <td>20.1264</td>\n      <td>59.62</td>\n      <td>0.462</td>\n      <td>36524.125</td>\n      <td>138.7</td>\n      <td>7.825</td>\n      <td>8.095</td>\n      <td>7.910</td>\n      <td>7.995</td>\n      <td>7.94</td>\n      <td>527367</td>\n      <td>YES</td>\n      <td>109.60</td>\n      <td>223.840</td>\n      <td>Thriller</td>\n      <td>23</td>\n      <td>494</td>\n      <td>48000</td>\n    </tr>\n    <tr>\n      <th>1</th>\n      <td>20.5462</td>\n      <td>69.14</td>\n      <td>0.531</td>\n      <td>35668.655</td>\n      <td>152.4</td>\n      <td>7.505</td>\n      <td>7.650</td>\n      <td>7.440</td>\n      <td>7.470</td>\n      <td>7.44</td>\n      <td>494055</td>\n      <td>NO</td>\n      <td>146.64</td>\n      <td>243.456</td>\n      <td>Drama</td>\n      <td>42</td>\n      <td>462</td>\n      <td>43200</td>\n    </tr>\n    <tr>\n      <th>2</th>\n      <td>20.5458</td>\n      <td>69.14</td>\n      <td>0.531</td>\n      <td>39912.675</td>\n      <td>134.6</td>\n      <td>7.485</td>\n      <td>7.570</td>\n      <td>7.495</td>\n      <td>7.515</td>\n      <td>7.44</td>\n      <td>547051</td>\n      <td>NO</td>\n      <td>147.88</td>\n      <td>2022.400</td>\n      <td>Comedy</td>\n      <td>38</td>\n      <td>458</td>\n      <td>69400</td>\n    </tr>\n    <tr>\n      <th>3</th>\n      <td>20.6474</td>\n      <td>59.36</td>\n      <td>0.542</td>\n      <td>38873.890</td>\n      <td>119.3</td>\n      <td>6.895</td>\n      <td>7.035</td>\n      <td>6.920</td>\n      <td>7.020</td>\n      <td>8.26</td>\n      <td>516279</td>\n      <td>YES</td>\n      <td>185.36</td>\n      <td>225.344</td>\n      <td>Drama</td>\n      <td>45</td>\n      <td>472</td>\n      <td>66800</td>\n    </tr>\n    <tr>\n      <th>4</th>\n      <td>21.3810</td>\n      <td>59.36</td>\n      <td>0.542</td>\n      <td>39701.585</td>\n      <td>127.7</td>\n      <td>6.920</td>\n      <td>7.070</td>\n      <td>6.815</td>\n      <td>7.070</td>\n      <td>8.26</td>\n      <td>531448</td>\n      <td>NO</td>\n      <td>176.48</td>\n      <td>225.792</td>\n      <td>Drama</td>\n      <td>55</td>\n      <td>395</td>\n      <td>72400</td>\n    </tr>\n  </tbody>\n</table>\n</div>"
     },
     "metadata": {},
     "execution_count": 13
    }
   ],
   "source": [
    "df.head()"
   ]
  },
  {
   "cell_type": "code",
   "execution_count": 14,
   "metadata": {},
   "outputs": [],
   "source": [
    "df=pd.get_dummies(df, columns=['3D_available','Genre'], drop_first=True)"
   ]
  },
  {
   "cell_type": "code",
   "execution_count": 15,
   "metadata": {},
   "outputs": [
    {
     "output_type": "execute_result",
     "data": {
      "text/plain": "   Marketing expense  Production expense  Multiplex coverage     Budget  \\\n0            20.1264               59.62               0.462  36524.125   \n1            20.5462               69.14               0.531  35668.655   \n2            20.5458               69.14               0.531  39912.675   \n3            20.6474               59.36               0.542  38873.890   \n4            21.3810               59.36               0.542  39701.585   \n\n   Movie_length  Lead_ Actor_Rating  Lead_Actress_rating  Director_rating  \\\n0         138.7               7.825                8.095            7.910   \n1         152.4               7.505                7.650            7.440   \n2         134.6               7.485                7.570            7.495   \n3         119.3               6.895                7.035            6.920   \n4         127.7               6.920                7.070            6.815   \n\n   Producer_rating  Critic_rating  Trailer_views  Time_taken  Twitter_hastags  \\\n0            7.995           7.94         527367      109.60          223.840   \n1            7.470           7.44         494055      146.64          243.456   \n2            7.515           7.44         547051      147.88         2022.400   \n3            7.020           8.26         516279      185.36          225.344   \n4            7.070           8.26         531448      176.48          225.792   \n\n   Avg_age_actors  Num_multiplex  Collection  3D_available_YES  Genre_Comedy  \\\n0              23            494       48000                 1             0   \n1              42            462       43200                 0             0   \n2              38            458       69400                 0             1   \n3              45            472       66800                 1             0   \n4              55            395       72400                 0             0   \n\n   Genre_Drama  Genre_Thriller  \n0            0               1  \n1            1               0  \n2            0               0  \n3            1               0  \n4            1               0  ",
      "text/html": "<div>\n<style scoped>\n    .dataframe tbody tr th:only-of-type {\n        vertical-align: middle;\n    }\n\n    .dataframe tbody tr th {\n        vertical-align: top;\n    }\n\n    .dataframe thead th {\n        text-align: right;\n    }\n</style>\n<table border=\"1\" class=\"dataframe\">\n  <thead>\n    <tr style=\"text-align: right;\">\n      <th></th>\n      <th>Marketing expense</th>\n      <th>Production expense</th>\n      <th>Multiplex coverage</th>\n      <th>Budget</th>\n      <th>Movie_length</th>\n      <th>Lead_ Actor_Rating</th>\n      <th>Lead_Actress_rating</th>\n      <th>Director_rating</th>\n      <th>Producer_rating</th>\n      <th>Critic_rating</th>\n      <th>Trailer_views</th>\n      <th>Time_taken</th>\n      <th>Twitter_hastags</th>\n      <th>Avg_age_actors</th>\n      <th>Num_multiplex</th>\n      <th>Collection</th>\n      <th>3D_available_YES</th>\n      <th>Genre_Comedy</th>\n      <th>Genre_Drama</th>\n      <th>Genre_Thriller</th>\n    </tr>\n  </thead>\n  <tbody>\n    <tr>\n      <th>0</th>\n      <td>20.1264</td>\n      <td>59.62</td>\n      <td>0.462</td>\n      <td>36524.125</td>\n      <td>138.7</td>\n      <td>7.825</td>\n      <td>8.095</td>\n      <td>7.910</td>\n      <td>7.995</td>\n      <td>7.94</td>\n      <td>527367</td>\n      <td>109.60</td>\n      <td>223.840</td>\n      <td>23</td>\n      <td>494</td>\n      <td>48000</td>\n      <td>1</td>\n      <td>0</td>\n      <td>0</td>\n      <td>1</td>\n    </tr>\n    <tr>\n      <th>1</th>\n      <td>20.5462</td>\n      <td>69.14</td>\n      <td>0.531</td>\n      <td>35668.655</td>\n      <td>152.4</td>\n      <td>7.505</td>\n      <td>7.650</td>\n      <td>7.440</td>\n      <td>7.470</td>\n      <td>7.44</td>\n      <td>494055</td>\n      <td>146.64</td>\n      <td>243.456</td>\n      <td>42</td>\n      <td>462</td>\n      <td>43200</td>\n      <td>0</td>\n      <td>0</td>\n      <td>1</td>\n      <td>0</td>\n    </tr>\n    <tr>\n      <th>2</th>\n      <td>20.5458</td>\n      <td>69.14</td>\n      <td>0.531</td>\n      <td>39912.675</td>\n      <td>134.6</td>\n      <td>7.485</td>\n      <td>7.570</td>\n      <td>7.495</td>\n      <td>7.515</td>\n      <td>7.44</td>\n      <td>547051</td>\n      <td>147.88</td>\n      <td>2022.400</td>\n      <td>38</td>\n      <td>458</td>\n      <td>69400</td>\n      <td>0</td>\n      <td>1</td>\n      <td>0</td>\n      <td>0</td>\n    </tr>\n    <tr>\n      <th>3</th>\n      <td>20.6474</td>\n      <td>59.36</td>\n      <td>0.542</td>\n      <td>38873.890</td>\n      <td>119.3</td>\n      <td>6.895</td>\n      <td>7.035</td>\n      <td>6.920</td>\n      <td>7.020</td>\n      <td>8.26</td>\n      <td>516279</td>\n      <td>185.36</td>\n      <td>225.344</td>\n      <td>45</td>\n      <td>472</td>\n      <td>66800</td>\n      <td>1</td>\n      <td>0</td>\n      <td>1</td>\n      <td>0</td>\n    </tr>\n    <tr>\n      <th>4</th>\n      <td>21.3810</td>\n      <td>59.36</td>\n      <td>0.542</td>\n      <td>39701.585</td>\n      <td>127.7</td>\n      <td>6.920</td>\n      <td>7.070</td>\n      <td>6.815</td>\n      <td>7.070</td>\n      <td>8.26</td>\n      <td>531448</td>\n      <td>176.48</td>\n      <td>225.792</td>\n      <td>55</td>\n      <td>395</td>\n      <td>72400</td>\n      <td>0</td>\n      <td>0</td>\n      <td>1</td>\n      <td>0</td>\n    </tr>\n  </tbody>\n</table>\n</div>"
     },
     "metadata": {},
     "execution_count": 15
    }
   ],
   "source": [
    "df.head()"
   ]
  },
  {
   "cell_type": "code",
   "execution_count": 16,
   "metadata": {
    "tags": []
   },
   "outputs": [
    {
     "output_type": "stream",
     "name": "stdout",
     "text": "Marketing expense  Production expense  Multiplex coverage     Budget  \\\n0              20.1264               59.62               0.462  36524.125   \n1              20.5462               69.14               0.531  35668.655   \n2              20.5458               69.14               0.531  39912.675   \n3              20.6474               59.36               0.542  38873.890   \n4              21.3810               59.36               0.542  39701.585   \n..                 ...                 ...                 ...        ...   \n501            21.2526               78.86               0.427  36624.115   \n502            20.9054               78.86               0.427  33996.600   \n503            21.2152               78.86               0.427  38751.680   \n504            22.1918               78.86               0.427  37740.670   \n505            20.9482               78.86               0.427  33496.650   \n\n     Movie_length  Lead_ Actor_Rating  Lead_Actress_rating  Director_rating  \\\n0           138.7               7.825                8.095            7.910   \n1           152.4               7.505                7.650            7.440   \n2           134.6               7.485                7.570            7.495   \n3           119.3               6.895                7.035            6.920   \n4           127.7               6.920                7.070            6.815   \n..            ...                 ...                  ...              ...   \n501         142.6               8.680                8.775            8.620   \n502         150.2               8.780                8.945            8.770   \n503         164.5               8.830                8.970            8.855   \n504         162.8               8.730                8.845            8.800   \n505         154.3               8.640                8.880            8.680   \n\n     Producer_rating  Critic_rating  Trailer_views  Time_taken  \\\n0              7.995           7.94         527367      109.60   \n1              7.470           7.44         494055      146.64   \n2              7.515           7.44         547051      147.88   \n3              7.020           8.26         516279      185.36   \n4              7.070           8.26         531448      176.48   \n..               ...            ...            ...         ...   \n501            8.970           6.80         492480      186.96   \n502            8.930           7.80         482875      132.24   \n503            9.010           7.80         532239      109.56   \n504            8.845           6.80         496077      158.80   \n505            8.790           6.80         518438      205.60   \n\n     Twitter_hastags  Avg_age_actors  Num_multiplex  3D_available_YES  \\\n0            223.840              23            494                 1   \n1            243.456              42            462                 0   \n2           2022.400              38            458                 0   \n3            225.344              45            472                 1   \n4            225.792              55            395                 0   \n..               ...             ...            ...               ...   \n501          243.584              27            561                 0   \n502          263.296              20            600                 1   \n503          243.824              31            576                 0   \n504          303.520              47            607                 1   \n505          203.040              45            604                 1   \n\n     Genre_Comedy  Genre_Drama  Genre_Thriller  \n0               0            0               1  \n1               0            1               0  \n2               1            0               0  \n3               0            1               0  \n4               0            1               0  \n..            ...          ...             ...  \n501             0            0               0  \n502             0            0               0  \n503             1            0               0  \n504             1            0               0  \n505             1            0               0  \n\n[506 rows x 19 columns]\n"
    }
   ],
   "source": [
    "X=df.loc[:, df.columns!='Collection']\n",
    "print(X)"
   ]
  },
  {
   "cell_type": "code",
   "execution_count": 17,
   "metadata": {
    "tags": []
   },
   "outputs": [
    {
     "output_type": "stream",
     "name": "stdout",
     "text": "0      48000\n1      43200\n2      69400\n3      66800\n4      72400\n       ...  \n501    44800\n502    41200\n503    47800\n504    44000\n505    38000\nName: Collection, Length: 506, dtype: int64\n"
    }
   ],
   "source": [
    "Y = df['Collection']\n",
    "print(Y)"
   ]
  },
  {
   "cell_type": "code",
   "execution_count": 18,
   "metadata": {},
   "outputs": [],
   "source": [
    "from sklearn.model_selection import train_test_split"
   ]
  },
  {
   "cell_type": "code",
   "execution_count": 19,
   "metadata": {},
   "outputs": [],
   "source": [
    "x_train, x_test, y_train, y_test = train_test_split(X, Y, random_state=0, test_size=0.2)"
   ]
  },
  {
   "cell_type": "code",
   "execution_count": 20,
   "metadata": {},
   "outputs": [],
   "source": [
    "from sklearn import tree\n",
    "regtree = tree.DecisionTreeRegressor(max_depth=3)"
   ]
  },
  {
   "cell_type": "code",
   "execution_count": 21,
   "metadata": {},
   "outputs": [
    {
     "output_type": "execute_result",
     "data": {
      "text/plain": "DecisionTreeRegressor(max_depth=3)"
     },
     "metadata": {},
     "execution_count": 21
    }
   ],
   "source": [
    "regtree.fit(x_train, y_train)"
   ]
  },
  {
   "cell_type": "code",
   "execution_count": 22,
   "metadata": {},
   "outputs": [],
   "source": [
    "y_pred=regtree.predict(x_test)"
   ]
  },
  {
   "cell_type": "code",
   "execution_count": 23,
   "metadata": {},
   "outputs": [
    {
     "output_type": "execute_result",
     "data": {
      "text/plain": "array([ 46187.35632184, 100000.        ,  46187.35632184,  23514.28571429,\n        46187.35632184,  46187.35632184,  46187.35632184,  46187.35632184,\n        46187.35632184,  46187.35632184,  23514.28571429,  23514.28571429,\n        23514.28571429,  23514.28571429,  91860.86956522,  65183.33333333,\n        46187.35632184,  65183.33333333,  46187.35632184,  46187.35632184,\n        46187.35632184,  46187.35632184,  46187.35632184,  46187.35632184,\n        46187.35632184, 100000.        ,  46187.35632184,  35137.77777778,\n        91860.86956522,  35137.77777778,  23514.28571429,  23514.28571429,\n        46187.35632184,  46187.35632184,  46187.35632184,  35137.77777778,\n        23514.28571429, 100000.        ,  23514.28571429,  23514.28571429,\n        46187.35632184,  46187.35632184,  46187.35632184,  23514.28571429,\n        46187.35632184,  46187.35632184,  35137.77777778,  35137.77777778,\n        35137.77777778,  46187.35632184,  35137.77777778,  35137.77777778,\n        46187.35632184,  91860.86956522,  35137.77777778,  35137.77777778,\n        46187.35632184,  46187.35632184, 100000.        ,  35137.77777778,\n        46187.35632184,  46187.35632184,  65183.33333333,  46187.35632184,\n        23514.28571429,  46187.35632184,  35137.77777778,  35137.77777778,\n        65183.33333333,  46187.35632184,  46187.35632184,  46187.35632184,\n        46187.35632184,  65183.33333333,  46187.35632184,  23514.28571429,\n        91860.86956522,  46187.35632184,  46187.35632184,  35137.77777778,\n        46187.35632184,  46187.35632184,  23514.28571429,  91860.86956522,\n        91860.86956522,  46187.35632184,  46187.35632184,  23514.28571429,\n        46187.35632184,  35137.77777778,  35137.77777778,  23514.28571429,\n        46187.35632184,  65183.33333333,  46187.35632184,  46187.35632184,\n        23514.28571429,  46187.35632184,  35137.77777778,  46187.35632184,\n        46187.35632184,  46187.35632184])"
     },
     "metadata": {},
     "execution_count": 23
    }
   ],
   "source": [
    "y_pred"
   ]
  },
  {
   "cell_type": "code",
   "execution_count": 24,
   "metadata": {},
   "outputs": [],
   "source": [
    "from sklearn.metrics import mean_squared_error, r2_score"
   ]
  },
  {
   "cell_type": "code",
   "execution_count": 25,
   "metadata": {},
   "outputs": [
    {
     "output_type": "execute_result",
     "data": {
      "text/plain": "139740942.91784033"
     },
     "metadata": {},
     "execution_count": 25
    }
   ],
   "source": [
    "mean_squared_error(y_test, y_pred)"
   ]
  },
  {
   "cell_type": "code",
   "execution_count": 26,
   "metadata": {},
   "outputs": [
    {
     "output_type": "execute_result",
     "data": {
      "text/plain": "0.5659203159203307"
     },
     "metadata": {},
     "execution_count": 26
    }
   ],
   "source": [
    "r2_score(y_test, y_pred)"
   ]
  },
  {
   "cell_type": "code",
   "execution_count": 27,
   "metadata": {},
   "outputs": [],
   "source": [
    "dot_data = tree.export_graphviz(regtree, out_file=None)"
   ]
  },
  {
   "cell_type": "code",
   "execution_count": 28,
   "metadata": {},
   "outputs": [],
   "source": [
    "from IPython.display import Image"
   ]
  },
  {
   "cell_type": "code",
   "execution_count": 29,
   "metadata": {},
   "outputs": [],
   "source": [
    "import pydotplus"
   ]
  },
  {
   "cell_type": "code",
   "execution_count": 30,
   "metadata": {},
   "outputs": [],
   "source": [
    "graph = pydotplus.graph_from_dot_data(dot_data)"
   ]
  },
  {
   "cell_type": "code",
   "execution_count": 31,
   "metadata": {},
   "outputs": [
    {
     "output_type": "error",
     "ename": "InvocationException",
     "evalue": "GraphViz's executables not found",
     "traceback": [
      "\u001b[1;31m---------------------------------------------------------------------------\u001b[0m",
      "\u001b[1;31mInvocationException\u001b[0m                       Traceback (most recent call last)",
      "\u001b[1;32m<ipython-input-31-e6295557e538>\u001b[0m in \u001b[0;36m<module>\u001b[1;34m\u001b[0m\n\u001b[1;32m----> 1\u001b[1;33m \u001b[0mImage\u001b[0m\u001b[1;33m(\u001b[0m\u001b[0mgraph\u001b[0m\u001b[1;33m.\u001b[0m\u001b[0mcreate_png\u001b[0m\u001b[1;33m(\u001b[0m\u001b[1;33m)\u001b[0m\u001b[1;33m)\u001b[0m\u001b[1;33m\u001b[0m\u001b[1;33m\u001b[0m\u001b[0m\n\u001b[0m",
      "\u001b[1;32m~\\AppData\\Local\\Programs\\Python\\Python38-32\\lib\\site-packages\\pydotplus\\graphviz.py\u001b[0m in \u001b[0;36m<lambda>\u001b[1;34m(f, prog)\u001b[0m\n\u001b[0;32m   1795\u001b[0m             self.__setattr__(\n\u001b[0;32m   1796\u001b[0m                 \u001b[1;34m'create_'\u001b[0m \u001b[1;33m+\u001b[0m \u001b[0mfrmt\u001b[0m\u001b[1;33m,\u001b[0m\u001b[1;33m\u001b[0m\u001b[1;33m\u001b[0m\u001b[0m\n\u001b[1;32m-> 1797\u001b[1;33m                 \u001b[1;32mlambda\u001b[0m \u001b[0mf\u001b[0m\u001b[1;33m=\u001b[0m\u001b[0mfrmt\u001b[0m\u001b[1;33m,\u001b[0m \u001b[0mprog\u001b[0m\u001b[1;33m=\u001b[0m\u001b[0mself\u001b[0m\u001b[1;33m.\u001b[0m\u001b[0mprog\u001b[0m\u001b[1;33m:\u001b[0m \u001b[0mself\u001b[0m\u001b[1;33m.\u001b[0m\u001b[0mcreate\u001b[0m\u001b[1;33m(\u001b[0m\u001b[0mformat\u001b[0m\u001b[1;33m=\u001b[0m\u001b[0mf\u001b[0m\u001b[1;33m,\u001b[0m \u001b[0mprog\u001b[0m\u001b[1;33m=\u001b[0m\u001b[0mprog\u001b[0m\u001b[1;33m)\u001b[0m\u001b[1;33m\u001b[0m\u001b[1;33m\u001b[0m\u001b[0m\n\u001b[0m\u001b[0;32m   1798\u001b[0m             )\n\u001b[0;32m   1799\u001b[0m             \u001b[0mf\u001b[0m \u001b[1;33m=\u001b[0m \u001b[0mself\u001b[0m\u001b[1;33m.\u001b[0m\u001b[0m__dict__\u001b[0m\u001b[1;33m[\u001b[0m\u001b[1;34m'create_'\u001b[0m \u001b[1;33m+\u001b[0m \u001b[0mfrmt\u001b[0m\u001b[1;33m]\u001b[0m\u001b[1;33m\u001b[0m\u001b[1;33m\u001b[0m\u001b[0m\n",
      "\u001b[1;32m~\\AppData\\Local\\Programs\\Python\\Python38-32\\lib\\site-packages\\pydotplus\\graphviz.py\u001b[0m in \u001b[0;36mcreate\u001b[1;34m(self, prog, format)\u001b[0m\n\u001b[0;32m   1957\u001b[0m             \u001b[0mself\u001b[0m\u001b[1;33m.\u001b[0m\u001b[0mprogs\u001b[0m \u001b[1;33m=\u001b[0m \u001b[0mfind_graphviz\u001b[0m\u001b[1;33m(\u001b[0m\u001b[1;33m)\u001b[0m\u001b[1;33m\u001b[0m\u001b[1;33m\u001b[0m\u001b[0m\n\u001b[0;32m   1958\u001b[0m             \u001b[1;32mif\u001b[0m \u001b[0mself\u001b[0m\u001b[1;33m.\u001b[0m\u001b[0mprogs\u001b[0m \u001b[1;32mis\u001b[0m \u001b[1;32mNone\u001b[0m\u001b[1;33m:\u001b[0m\u001b[1;33m\u001b[0m\u001b[1;33m\u001b[0m\u001b[0m\n\u001b[1;32m-> 1959\u001b[1;33m                 raise InvocationException(\n\u001b[0m\u001b[0;32m   1960\u001b[0m                     'GraphViz\\'s executables not found')\n\u001b[0;32m   1961\u001b[0m \u001b[1;33m\u001b[0m\u001b[0m\n",
      "\u001b[1;31mInvocationException\u001b[0m: GraphViz's executables not found"
     ]
    }
   ],
   "source": [
    "Image(graph.create_png())"
   ]
  },
  {
   "cell_type": "code",
   "execution_count": null,
   "metadata": {},
   "outputs": [],
   "source": []
  },
  {
   "cell_type": "code",
   "execution_count": null,
   "metadata": {},
   "outputs": [],
   "source": []
  }
 ],
 "metadata": {
  "language_info": {
   "codemirror_mode": {
    "name": "ipython",
    "version": 3
   },
   "file_extension": ".py",
   "mimetype": "text/x-python",
   "name": "python",
   "nbconvert_exporter": "python",
   "pygments_lexer": "ipython3",
   "version": "3.8.3-final"
  },
  "orig_nbformat": 2,
  "kernelspec": {
   "name": "python38332bit460d60a222b5428d917f9898c55859ed",
   "display_name": "Python 3.8.3 32-bit"
  }
 },
 "nbformat": 4,
 "nbformat_minor": 2
}