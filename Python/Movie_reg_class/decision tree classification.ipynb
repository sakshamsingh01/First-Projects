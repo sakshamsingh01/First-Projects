{
 "cells": [
  {
   "cell_type": "code",
   "execution_count": 4,
   "metadata": {},
   "outputs": [],
   "source": [
    "import pandas as pd \n",
    "import numpy as np \n",
    "import seaborn as sb \n",
    "import matplotlib.pyplot as plt"
   ]
  },
  {
   "cell_type": "code",
   "execution_count": 5,
   "metadata": {},
   "outputs": [],
   "source": [
    "df = pd.read_csv('Movie_classification.csv')"
   ]
  },
  {
   "cell_type": "code",
   "execution_count": 6,
   "metadata": {},
   "outputs": [
    {
     "output_type": "execute_result",
     "data": {
      "text/plain": "   Marketing expense  Production expense  Multiplex coverage     Budget  \\\n0            20.1264               59.62               0.462  36524.125   \n1            20.5462               69.14               0.531  35668.655   \n2            20.5458               69.14               0.531  39912.675   \n3            20.6474               59.36               0.542  38873.890   \n4            21.3810               59.36               0.542  39701.585   \n\n   Movie_length  Lead_ Actor_Rating  Lead_Actress_rating  Director_rating  \\\n0         138.7               7.825                8.095            7.910   \n1         152.4               7.505                7.650            7.440   \n2         134.6               7.485                7.570            7.495   \n3         119.3               6.895                7.035            6.920   \n4         127.7               6.920                7.070            6.815   \n\n   Producer_rating  Critic_rating  Trailer_views 3D_available  Time_taken  \\\n0            7.995           7.94         527367          YES      109.60   \n1            7.470           7.44         494055           NO      146.64   \n2            7.515           7.44         547051           NO      147.88   \n3            7.020           8.26         516279          YES      185.36   \n4            7.070           8.26         531448           NO      176.48   \n\n   Twitter_hastags     Genre  Avg_age_actors  Num_multiplex  Collection  \\\n0          223.840  Thriller              23            494       48000   \n1          243.456     Drama              42            462       43200   \n2         2022.400    Comedy              38            458       69400   \n3          225.344     Drama              45            472       66800   \n4          225.792     Drama              55            395       72400   \n\n   Start_Tech_Oscar  \n0                 1  \n1                 0  \n2                 1  \n3                 1  \n4                 1  ",
      "text/html": "<div>\n<style scoped>\n    .dataframe tbody tr th:only-of-type {\n        vertical-align: middle;\n    }\n\n    .dataframe tbody tr th {\n        vertical-align: top;\n    }\n\n    .dataframe thead th {\n        text-align: right;\n    }\n</style>\n<table border=\"1\" class=\"dataframe\">\n  <thead>\n    <tr style=\"text-align: right;\">\n      <th></th>\n      <th>Marketing expense</th>\n      <th>Production expense</th>\n      <th>Multiplex coverage</th>\n      <th>Budget</th>\n      <th>Movie_length</th>\n      <th>Lead_ Actor_Rating</th>\n      <th>Lead_Actress_rating</th>\n      <th>Director_rating</th>\n      <th>Producer_rating</th>\n      <th>Critic_rating</th>\n      <th>Trailer_views</th>\n      <th>3D_available</th>\n      <th>Time_taken</th>\n      <th>Twitter_hastags</th>\n      <th>Genre</th>\n      <th>Avg_age_actors</th>\n      <th>Num_multiplex</th>\n      <th>Collection</th>\n      <th>Start_Tech_Oscar</th>\n    </tr>\n  </thead>\n  <tbody>\n    <tr>\n      <th>0</th>\n      <td>20.1264</td>\n      <td>59.62</td>\n      <td>0.462</td>\n      <td>36524.125</td>\n      <td>138.7</td>\n      <td>7.825</td>\n      <td>8.095</td>\n      <td>7.910</td>\n      <td>7.995</td>\n      <td>7.94</td>\n      <td>527367</td>\n      <td>YES</td>\n      <td>109.60</td>\n      <td>223.840</td>\n      <td>Thriller</td>\n      <td>23</td>\n      <td>494</td>\n      <td>48000</td>\n      <td>1</td>\n    </tr>\n    <tr>\n      <th>1</th>\n      <td>20.5462</td>\n      <td>69.14</td>\n      <td>0.531</td>\n      <td>35668.655</td>\n      <td>152.4</td>\n      <td>7.505</td>\n      <td>7.650</td>\n      <td>7.440</td>\n      <td>7.470</td>\n      <td>7.44</td>\n      <td>494055</td>\n      <td>NO</td>\n      <td>146.64</td>\n      <td>243.456</td>\n      <td>Drama</td>\n      <td>42</td>\n      <td>462</td>\n      <td>43200</td>\n      <td>0</td>\n    </tr>\n    <tr>\n      <th>2</th>\n      <td>20.5458</td>\n      <td>69.14</td>\n      <td>0.531</td>\n      <td>39912.675</td>\n      <td>134.6</td>\n      <td>7.485</td>\n      <td>7.570</td>\n      <td>7.495</td>\n      <td>7.515</td>\n      <td>7.44</td>\n      <td>547051</td>\n      <td>NO</td>\n      <td>147.88</td>\n      <td>2022.400</td>\n      <td>Comedy</td>\n      <td>38</td>\n      <td>458</td>\n      <td>69400</td>\n      <td>1</td>\n    </tr>\n    <tr>\n      <th>3</th>\n      <td>20.6474</td>\n      <td>59.36</td>\n      <td>0.542</td>\n      <td>38873.890</td>\n      <td>119.3</td>\n      <td>6.895</td>\n      <td>7.035</td>\n      <td>6.920</td>\n      <td>7.020</td>\n      <td>8.26</td>\n      <td>516279</td>\n      <td>YES</td>\n      <td>185.36</td>\n      <td>225.344</td>\n      <td>Drama</td>\n      <td>45</td>\n      <td>472</td>\n      <td>66800</td>\n      <td>1</td>\n    </tr>\n    <tr>\n      <th>4</th>\n      <td>21.3810</td>\n      <td>59.36</td>\n      <td>0.542</td>\n      <td>39701.585</td>\n      <td>127.7</td>\n      <td>6.920</td>\n      <td>7.070</td>\n      <td>6.815</td>\n      <td>7.070</td>\n      <td>8.26</td>\n      <td>531448</td>\n      <td>NO</td>\n      <td>176.48</td>\n      <td>225.792</td>\n      <td>Drama</td>\n      <td>55</td>\n      <td>395</td>\n      <td>72400</td>\n      <td>1</td>\n    </tr>\n  </tbody>\n</table>\n</div>"
     },
     "metadata": {},
     "execution_count": 6
    }
   ],
   "source": [
    "df.head()"
   ]
  },
  {
   "cell_type": "code",
   "execution_count": 7,
   "metadata": {},
   "outputs": [
    {
     "output_type": "execute_result",
     "data": {
      "text/plain": "Marketing expense       0\nProduction expense      0\nMultiplex coverage      0\nBudget                  0\nMovie_length            0\nLead_ Actor_Rating      0\nLead_Actress_rating     0\nDirector_rating         0\nProducer_rating         0\nCritic_rating           0\nTrailer_views           0\n3D_available            0\nTime_taken             12\nTwitter_hastags         0\nGenre                   0\nAvg_age_actors          0\nNum_multiplex           0\nCollection              0\nStart_Tech_Oscar        0\ndtype: int64"
     },
     "metadata": {},
     "execution_count": 7
    }
   ],
   "source": [
    "df.isnull().sum()"
   ]
  },
  {
   "cell_type": "markdown",
   "metadata": {},
   "source": [
    "Time taken has NULL values"
   ]
  },
  {
   "cell_type": "code",
   "execution_count": 8,
   "metadata": {},
   "outputs": [],
   "source": [
    "df['Time_taken'].fillna(value=df['Time_taken'].mean(), inplace=True)"
   ]
  },
  {
   "cell_type": "code",
   "execution_count": 9,
   "metadata": {},
   "outputs": [
    {
     "output_type": "execute_result",
     "data": {
      "text/plain": "Marketing expense      0\nProduction expense     0\nMultiplex coverage     0\nBudget                 0\nMovie_length           0\nLead_ Actor_Rating     0\nLead_Actress_rating    0\nDirector_rating        0\nProducer_rating        0\nCritic_rating          0\nTrailer_views          0\n3D_available           0\nTime_taken             0\nTwitter_hastags        0\nGenre                  0\nAvg_age_actors         0\nNum_multiplex          0\nCollection             0\nStart_Tech_Oscar       0\ndtype: int64"
     },
     "metadata": {},
     "execution_count": 9
    }
   ],
   "source": [
    "df.isnull().sum()"
   ]
  },
  {
   "cell_type": "code",
   "execution_count": 10,
   "metadata": {},
   "outputs": [
    {
     "output_type": "execute_result",
     "data": {
      "text/plain": "   Marketing expense  Production expense  Multiplex coverage     Budget  \\\n0            20.1264               59.62               0.462  36524.125   \n1            20.5462               69.14               0.531  35668.655   \n2            20.5458               69.14               0.531  39912.675   \n3            20.6474               59.36               0.542  38873.890   \n4            21.3810               59.36               0.542  39701.585   \n\n   Movie_length  Lead_ Actor_Rating  Lead_Actress_rating  Director_rating  \\\n0         138.7               7.825                8.095            7.910   \n1         152.4               7.505                7.650            7.440   \n2         134.6               7.485                7.570            7.495   \n3         119.3               6.895                7.035            6.920   \n4         127.7               6.920                7.070            6.815   \n\n   Producer_rating  Critic_rating  Trailer_views 3D_available  Time_taken  \\\n0            7.995           7.94         527367          YES      109.60   \n1            7.470           7.44         494055           NO      146.64   \n2            7.515           7.44         547051           NO      147.88   \n3            7.020           8.26         516279          YES      185.36   \n4            7.070           8.26         531448           NO      176.48   \n\n   Twitter_hastags     Genre  Avg_age_actors  Num_multiplex  Collection  \\\n0          223.840  Thriller              23            494       48000   \n1          243.456     Drama              42            462       43200   \n2         2022.400    Comedy              38            458       69400   \n3          225.344     Drama              45            472       66800   \n4          225.792     Drama              55            395       72400   \n\n   Start_Tech_Oscar  \n0                 1  \n1                 0  \n2                 1  \n3                 1  \n4                 1  ",
      "text/html": "<div>\n<style scoped>\n    .dataframe tbody tr th:only-of-type {\n        vertical-align: middle;\n    }\n\n    .dataframe tbody tr th {\n        vertical-align: top;\n    }\n\n    .dataframe thead th {\n        text-align: right;\n    }\n</style>\n<table border=\"1\" class=\"dataframe\">\n  <thead>\n    <tr style=\"text-align: right;\">\n      <th></th>\n      <th>Marketing expense</th>\n      <th>Production expense</th>\n      <th>Multiplex coverage</th>\n      <th>Budget</th>\n      <th>Movie_length</th>\n      <th>Lead_ Actor_Rating</th>\n      <th>Lead_Actress_rating</th>\n      <th>Director_rating</th>\n      <th>Producer_rating</th>\n      <th>Critic_rating</th>\n      <th>Trailer_views</th>\n      <th>3D_available</th>\n      <th>Time_taken</th>\n      <th>Twitter_hastags</th>\n      <th>Genre</th>\n      <th>Avg_age_actors</th>\n      <th>Num_multiplex</th>\n      <th>Collection</th>\n      <th>Start_Tech_Oscar</th>\n    </tr>\n  </thead>\n  <tbody>\n    <tr>\n      <th>0</th>\n      <td>20.1264</td>\n      <td>59.62</td>\n      <td>0.462</td>\n      <td>36524.125</td>\n      <td>138.7</td>\n      <td>7.825</td>\n      <td>8.095</td>\n      <td>7.910</td>\n      <td>7.995</td>\n      <td>7.94</td>\n      <td>527367</td>\n      <td>YES</td>\n      <td>109.60</td>\n      <td>223.840</td>\n      <td>Thriller</td>\n      <td>23</td>\n      <td>494</td>\n      <td>48000</td>\n      <td>1</td>\n    </tr>\n    <tr>\n      <th>1</th>\n      <td>20.5462</td>\n      <td>69.14</td>\n      <td>0.531</td>\n      <td>35668.655</td>\n      <td>152.4</td>\n      <td>7.505</td>\n      <td>7.650</td>\n      <td>7.440</td>\n      <td>7.470</td>\n      <td>7.44</td>\n      <td>494055</td>\n      <td>NO</td>\n      <td>146.64</td>\n      <td>243.456</td>\n      <td>Drama</td>\n      <td>42</td>\n      <td>462</td>\n      <td>43200</td>\n      <td>0</td>\n    </tr>\n    <tr>\n      <th>2</th>\n      <td>20.5458</td>\n      <td>69.14</td>\n      <td>0.531</td>\n      <td>39912.675</td>\n      <td>134.6</td>\n      <td>7.485</td>\n      <td>7.570</td>\n      <td>7.495</td>\n      <td>7.515</td>\n      <td>7.44</td>\n      <td>547051</td>\n      <td>NO</td>\n      <td>147.88</td>\n      <td>2022.400</td>\n      <td>Comedy</td>\n      <td>38</td>\n      <td>458</td>\n      <td>69400</td>\n      <td>1</td>\n    </tr>\n    <tr>\n      <th>3</th>\n      <td>20.6474</td>\n      <td>59.36</td>\n      <td>0.542</td>\n      <td>38873.890</td>\n      <td>119.3</td>\n      <td>6.895</td>\n      <td>7.035</td>\n      <td>6.920</td>\n      <td>7.020</td>\n      <td>8.26</td>\n      <td>516279</td>\n      <td>YES</td>\n      <td>185.36</td>\n      <td>225.344</td>\n      <td>Drama</td>\n      <td>45</td>\n      <td>472</td>\n      <td>66800</td>\n      <td>1</td>\n    </tr>\n    <tr>\n      <th>4</th>\n      <td>21.3810</td>\n      <td>59.36</td>\n      <td>0.542</td>\n      <td>39701.585</td>\n      <td>127.7</td>\n      <td>6.920</td>\n      <td>7.070</td>\n      <td>6.815</td>\n      <td>7.070</td>\n      <td>8.26</td>\n      <td>531448</td>\n      <td>NO</td>\n      <td>176.48</td>\n      <td>225.792</td>\n      <td>Drama</td>\n      <td>55</td>\n      <td>395</td>\n      <td>72400</td>\n      <td>1</td>\n    </tr>\n  </tbody>\n</table>\n</div>"
     },
     "metadata": {},
     "execution_count": 10
    }
   ],
   "source": [
    "df.head()"
   ]
  },
  {
   "cell_type": "code",
   "execution_count": 11,
   "metadata": {},
   "outputs": [],
   "source": [
    "df=pd.get_dummies(df,columns=['Genre','3D_available'], drop_first=True)"
   ]
  },
  {
   "cell_type": "code",
   "execution_count": 12,
   "metadata": {},
   "outputs": [],
   "source": [
    "X=df.loc[:,df.columns!='Start_Tech_Oscar']"
   ]
  },
  {
   "cell_type": "code",
   "execution_count": 13,
   "metadata": {
    "tags": []
   },
   "outputs": [
    {
     "output_type": "stream",
     "name": "stdout",
     "text": "(506, 20)\n"
    }
   ],
   "source": [
    "print(X.shape)"
   ]
  },
  {
   "cell_type": "code",
   "execution_count": 14,
   "metadata": {},
   "outputs": [],
   "source": [
    "Y=df['Start_Tech_Oscar']"
   ]
  },
  {
   "cell_type": "code",
   "execution_count": 15,
   "metadata": {
    "tags": []
   },
   "outputs": [
    {
     "output_type": "stream",
     "name": "stdout",
     "text": "0      1\n1      0\n2      1\n3      1\n4      1\n      ..\n501    0\n502    0\n503    0\n504    0\n505    0\nName: Start_Tech_Oscar, Length: 506, dtype: int64\n"
    }
   ],
   "source": [
    "print(Y)"
   ]
  },
  {
   "cell_type": "code",
   "execution_count": 16,
   "metadata": {},
   "outputs": [],
   "source": [
    "from sklearn.model_selection import train_test_split"
   ]
  },
  {
   "cell_type": "code",
   "execution_count": 17,
   "metadata": {},
   "outputs": [],
   "source": [
    "x_train, x_test, y_train, y_test = train_test_split(X, Y, random_state=0, test_size=0.2)"
   ]
  },
  {
   "cell_type": "code",
   "execution_count": 18,
   "metadata": {},
   "outputs": [],
   "source": [
    "from sklearn import tree"
   ]
  },
  {
   "cell_type": "code",
   "execution_count": 19,
   "metadata": {},
   "outputs": [],
   "source": [
    "caltree = tree.DecisionTreeClassifier(min_samples_leaf=50 ,max_depth=5)"
   ]
  },
  {
   "cell_type": "code",
   "execution_count": 20,
   "metadata": {},
   "outputs": [
    {
     "output_type": "execute_result",
     "data": {
      "text/plain": "DecisionTreeClassifier(max_depth=5, min_samples_leaf=50)"
     },
     "metadata": {},
     "execution_count": 20
    }
   ],
   "source": [
    "caltree.fit(x_train,y_train)"
   ]
  },
  {
   "cell_type": "code",
   "execution_count": 21,
   "metadata": {},
   "outputs": [],
   "source": [
    "y_pred=caltree.predict(x_test)"
   ]
  },
  {
   "cell_type": "code",
   "execution_count": 22,
   "metadata": {
    "tags": []
   },
   "outputs": [
    {
     "output_type": "stream",
     "name": "stdout",
     "text": "[0 1 0 1 0 0 0 0 1 1 0 1 1 1 1 1 1 1 0 1 0 0 0 1 1 1 0 0 1 0 1 1 1 0 0 1 0\n 1 0 0 0 1 1 1 1 1 1 1 1 0 0 0 0 1 0 1 0 0 0 0 1 1 1 1 1 1 0 1 1 0 1 1 1 1\n 1 1 1 1 0 1 0 0 1 1 1 1 0 1 0 0 0 0 1 1 0 1 1 0 1 1 1 0]\n"
    }
   ],
   "source": [
    "print(y_pred)"
   ]
  },
  {
   "cell_type": "code",
   "execution_count": 23,
   "metadata": {},
   "outputs": [],
   "source": [
    "from sklearn.metrics import accuracy_score, confusion_matrix"
   ]
  },
  {
   "cell_type": "code",
   "execution_count": 24,
   "metadata": {},
   "outputs": [
    {
     "output_type": "execute_result",
     "data": {
      "text/plain": "0.5882352941176471"
     },
     "metadata": {},
     "execution_count": 24
    }
   ],
   "source": [
    "accuracy_score(y_test,y_pred)"
   ]
  },
  {
   "cell_type": "code",
   "execution_count": 25,
   "metadata": {
    "tags": []
   },
   "outputs": [
    {
     "output_type": "error",
     "ename": "NameError",
     "evalue": "name 'metrics' is not defined",
     "traceback": [
      "\u001b[1;31m---------------------------------------------------------------------------\u001b[0m",
      "\u001b[1;31mNameError\u001b[0m                                 Traceback (most recent call last)",
      "\u001b[1;32m<ipython-input-25-f6e056e729b9>\u001b[0m in \u001b[0;36m<module>\u001b[1;34m\u001b[0m\n\u001b[1;32m----> 1\u001b[1;33m \u001b[0mprint\u001b[0m\u001b[1;33m(\u001b[0m\u001b[0mmetrics\u001b[0m\u001b[1;33m.\u001b[0m\u001b[0mconfusion_matrix\u001b[0m\u001b[1;33m(\u001b[0m\u001b[0my_test\u001b[0m\u001b[1;33m,\u001b[0m \u001b[0my_pred\u001b[0m\u001b[1;33m)\u001b[0m\u001b[1;33m)\u001b[0m\u001b[1;33m\u001b[0m\u001b[1;33m\u001b[0m\u001b[0m\n\u001b[0m",
      "\u001b[1;31mNameError\u001b[0m: name 'metrics' is not defined"
     ]
    }
   ],
   "source": [
    "print(metrics.confusion_matrix(y_test, y_pred))"
   ]
  },
  {
   "cell_type": "markdown",
   "metadata": {},
   "source": [
    "Using Bagging Classifier"
   ]
  },
  {
   "cell_type": "code",
   "execution_count": 26,
   "metadata": {},
   "outputs": [],
   "source": [
    "from sklearn.ensemble import BaggingClassifier"
   ]
  },
  {
   "cell_type": "code",
   "execution_count": 36,
   "metadata": {},
   "outputs": [],
   "source": [
    "caltree1=tree.DecisionTreeClassifier()\n",
    "bag_clf=BaggingClassifier(base_estimator=caltree1, n_jobs=-1, n_estimators=2000,bootstrap=True,random_state=1)"
   ]
  },
  {
   "cell_type": "code",
   "execution_count": 37,
   "metadata": {},
   "outputs": [
    {
     "output_type": "execute_result",
     "data": {
      "text/plain": "BaggingClassifier(base_estimator=DecisionTreeClassifier(), n_estimators=10000,\n                  n_jobs=-1, random_state=1)"
     },
     "metadata": {},
     "execution_count": 37
    }
   ],
   "source": [
    "bag_clf.fit(x_train,y_train)"
   ]
  },
  {
   "cell_type": "code",
   "execution_count": 38,
   "metadata": {},
   "outputs": [
    {
     "output_type": "execute_result",
     "data": {
      "text/plain": "0.6274509803921569"
     },
     "metadata": {},
     "execution_count": 38
    }
   ],
   "source": [
    "accuracy_score(bag_clf.predict(x_test),y_test)"
   ]
  },
  {
   "cell_type": "markdown",
   "metadata": {},
   "source": [
    "Using Random Forest Classification"
   ]
  },
  {
   "cell_type": "code",
   "execution_count": 39,
   "metadata": {},
   "outputs": [],
   "source": [
    "from sklearn.ensemble import RandomForestClassifier"
   ]
  },
  {
   "cell_type": "code",
   "execution_count": 49,
   "metadata": {},
   "outputs": [],
   "source": [
    "ran_clf=RandomForestClassifier(n_jobs=-1, random_state=1, n_estimators=3000)"
   ]
  },
  {
   "cell_type": "code",
   "execution_count": 50,
   "metadata": {},
   "outputs": [
    {
     "output_type": "execute_result",
     "data": {
      "text/plain": "RandomForestClassifier(n_estimators=3000, n_jobs=-1, random_state=1)"
     },
     "metadata": {},
     "execution_count": 50
    }
   ],
   "source": [
    "ran_clf.fit(x_train,y_train)"
   ]
  },
  {
   "cell_type": "code",
   "execution_count": 51,
   "metadata": {},
   "outputs": [
    {
     "output_type": "execute_result",
     "data": {
      "text/plain": "0.6274509803921569"
     },
     "metadata": {},
     "execution_count": 51
    }
   ],
   "source": [
    "accuracy_score(y_test,ran_clf.predict(x_test))"
   ]
  },
  {
   "cell_type": "markdown",
   "metadata": {},
   "source": [
    "Using GradientBoosting Classification"
   ]
  },
  {
   "cell_type": "code",
   "execution_count": 52,
   "metadata": {},
   "outputs": [],
   "source": [
    "from sklearn.ensemble import GradientBoostingClassifier"
   ]
  },
  {
   "cell_type": "code",
   "execution_count": 61,
   "metadata": {},
   "outputs": [],
   "source": [
    "gra1=GradientBoostingClassifier(n_estimators=1000, learning_rate=0.02, max_depth=3)"
   ]
  },
  {
   "cell_type": "code",
   "execution_count": 62,
   "metadata": {},
   "outputs": [
    {
     "output_type": "execute_result",
     "data": {
      "text/plain": "GradientBoostingClassifier(learning_rate=0.02, n_estimators=1000)"
     },
     "metadata": {},
     "execution_count": 62
    }
   ],
   "source": [
    "gra1.fit(x_train,y_train)"
   ]
  },
  {
   "cell_type": "code",
   "execution_count": 63,
   "metadata": {},
   "outputs": [
    {
     "output_type": "execute_result",
     "data": {
      "text/plain": "0.5588235294117647"
     },
     "metadata": {},
     "execution_count": 63
    }
   ],
   "source": [
    "accuracy_score(y_test,gra1.predict(x_test))"
   ]
  },
  {
   "cell_type": "markdown",
   "metadata": {},
   "source": [
    "Using Adaboosting Classification"
   ]
  },
  {
   "cell_type": "code",
   "execution_count": 64,
   "metadata": {},
   "outputs": [],
   "source": [
    "from sklearn.ensemble import AdaBoostClassifier"
   ]
  },
  {
   "cell_type": "code",
   "execution_count": 69,
   "metadata": {},
   "outputs": [],
   "source": [
    "ada = AdaBoostClassifier(learning_rate=0.02, n_estimators=2000)"
   ]
  },
  {
   "cell_type": "code",
   "execution_count": 70,
   "metadata": {},
   "outputs": [
    {
     "output_type": "execute_result",
     "data": {
      "text/plain": "AdaBoostClassifier(learning_rate=0.02, n_estimators=2000)"
     },
     "metadata": {},
     "execution_count": 70
    }
   ],
   "source": [
    "ada.fit(x_train,y_train)"
   ]
  },
  {
   "cell_type": "code",
   "execution_count": 71,
   "metadata": {},
   "outputs": [
    {
     "output_type": "execute_result",
     "data": {
      "text/plain": "0.5784313725490197"
     },
     "metadata": {},
     "execution_count": 71
    }
   ],
   "source": [
    "accuracy_score(y_test,ada.predict(x_test))"
   ]
  },
  {
   "cell_type": "code",
   "execution_count": null,
   "metadata": {},
   "outputs": [],
   "source": []
  }
 ],
 "metadata": {
  "language_info": {
   "codemirror_mode": {
    "name": "ipython",
    "version": 3
   },
   "file_extension": ".py",
   "mimetype": "text/x-python",
   "name": "python",
   "nbconvert_exporter": "python",
   "pygments_lexer": "ipython3",
   "version": "3.8.3-final"
  },
  "orig_nbformat": 2,
  "kernelspec": {
   "name": "python38332bit460d60a222b5428d917f9898c55859ed",
   "display_name": "Python 3.8.3 32-bit"
  }
 },
 "nbformat": 4,
 "nbformat_minor": 2
}